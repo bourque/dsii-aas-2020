{
 "cells": [
  {
   "cell_type": "code",
   "execution_count": 32,
   "metadata": {},
   "outputs": [],
   "source": [
    "import glob\n",
    "import json\n",
    "import os"
   ]
  },
  {
   "cell_type": "code",
   "execution_count": 33,
   "metadata": {},
   "outputs": [],
   "source": [
    "with open('config.json', 'r') as f:\n",
    "    settings = json.load(f)"
   ]
  },
  {
   "cell_type": "code",
   "execution_count": 34,
   "metadata": {},
   "outputs": [],
   "source": [
    "results_dict = {}"
   ]
  },
  {
   "cell_type": "code",
   "execution_count": 35,
   "metadata": {},
   "outputs": [],
   "source": [
    "cpu_log_files = glob.glob(os.path.join(settings['results_dir'], 'cpu', '*.log'))\n",
    "gpu_log_files = glob.glob(os.path.join(settings['results_dir'], 'gpu', '*.log'))\n",
    "log_file_path = cpu_log_files[0]\n",
    "log_file = '/'.join(log_file_path.split('/')[-2:])\n",
    "results_dict[log_file] = {}\n",
    "\n",
    "# Gather ancillary data\n",
    "results_dict[log_file]['machine_type'] = log_file.split('/')[0]\n",
    "results_dict[log_file]['iteration'] = os.path.basename(log_file).split('.log')[0][-1]\n",
    "results_dict[log_file]['target'] = os.path.basename(log_file).split('_')[1]\n",
    "results_dict[log_file]['method'] = os.path.basename(log_file).split('_')[0]\n",
    "results_dict[log_file]['results'] = {}"
   ]
  },
  {
   "cell_type": "code",
   "execution_count": 36,
   "metadata": {},
   "outputs": [],
   "source": [
    "# Gather results stats and execution time\n",
    "with open(log_file_path, 'r') as f:\n",
    "    data = f.read()\n",
    "data = data.strip().split('\\n')\n",
    "for i, line in enumerate(data):\n",
    "    if '#Parameter' in line:\n",
    "        results = [data[i+2:i+7]][0]\n",
    "    if 'Retrieval Execution Time' in line:\n",
    "        results_dict['total_time'] = line.split()[-1]"
   ]
  },
  {
   "cell_type": "code",
   "execution_count": 37,
   "metadata": {},
   "outputs": [],
   "source": [
    "# Parse results\n",
    "for item in results:\n",
    "    item = item.split('INFO: ')[-1]\n",
    "    parameter = item.split()[0]\n",
    "    results_dict[log_file]['results'][parameter] = {}\n",
    "    results_dict[log_file]['results'][parameter]['low_error'] = item.split()[1]\n",
    "    results_dict[log_file]['results'][parameter]['median'] = item.split()[2]\n",
    "    results_dict[log_file]['results'][parameter]['upper_error'] = item.split()[3]\n",
    "    results_dict[log_file]['results'][parameter]['best_fit'] = item.split()[4]"
   ]
  },
  {
   "cell_type": "code",
   "execution_count": 38,
   "metadata": {},
   "outputs": [
    {
     "data": {
      "text/plain": [
       "{'cpu/emcee_hat-p-12b_iter3.log': {'machine_type': 'cpu',\n",
       "  'iteration': '3',\n",
       "  'target': 'hat-p-12b',\n",
       "  'method': 'emcee',\n",
       "  'results': {'Rs': {'low_error': '14371420.444482028',\n",
       "    'median': '487882184.80642575',\n",
       "    'upper_error': '13832535.728639185',\n",
       "    'best_fit': '488434933.987623'},\n",
       "   'Mp': {'low_error': '6.876204021931714e+25',\n",
       "    'median': '4.123001102365689e+26',\n",
       "    'upper_error': '6.5139619592144205e+25',\n",
       "    'best_fit': '4.003710927839839e+26'},\n",
       "   'Rp': {'low_error': '1981738.757637158',\n",
       "    'median': '62417135.11929339',\n",
       "    'upper_error': '2125696.2680124417',\n",
       "    'best_fit': '62240828.89170411'},\n",
       "   'T': {'low_error': '197.730979652423',\n",
       "    'median': '1122.1999031727592',\n",
       "    'upper_error': '187.99193928161503',\n",
       "    'best_fit': '1079.995917592871'},\n",
       "   'log_scatt_factor': {'low_error': '0.9735309095792557',\n",
       "    'median': '3.568066902752374',\n",
       "    'upper_error': '0.805200757630522',\n",
       "    'best_fit': '3.6441220663190323'}}},\n",
       " 'total_time': '0:44:36'}"
      ]
     },
     "execution_count": 38,
     "metadata": {},
     "output_type": "execute_result"
    }
   ],
   "source": [
    "results_dict"
   ]
  },
  {
   "cell_type": "code",
   "execution_count": null,
   "metadata": {},
   "outputs": [],
   "source": []
  }
 ],
 "metadata": {
  "kernelspec": {
   "display_name": "Python 3",
   "language": "python",
   "name": "python3"
  },
  "language_info": {
   "codemirror_mode": {
    "name": "ipython",
    "version": 3
   },
   "file_extension": ".py",
   "mimetype": "text/x-python",
   "name": "python",
   "nbconvert_exporter": "python",
   "pygments_lexer": "ipython3",
   "version": "3.6.7"
  }
 },
 "nbformat": 4,
 "nbformat_minor": 2
}
