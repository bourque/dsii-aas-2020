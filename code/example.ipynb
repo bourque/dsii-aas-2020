{
 "cells": [
  {
   "cell_type": "code",
   "execution_count": null,
   "metadata": {},
   "outputs": [],
   "source": [
    "from exoctk.atmospheric_retrievals.platon_wrapper import PlatonWrapper\n",
    "from exoctk.atmospheric_retrievals.examples import get_example_data\n",
    "from platon.constants import R_sun, R_jup, M_jup\n",
    "import numpy as np"
   ]
  },
  {
   "cell_type": "code",
   "execution_count": null,
   "metadata": {},
   "outputs": [],
   "source": [
    "# Define initial guesses\n",
    "params = {\n",
    "    'Rs': 1.000,  # Required\n",
    "    'Mp': 1.069,  # Required\n",
    "    'Rp': 1.392,  # Required\n",
    "    'T': 2100.42,  # Required\n",
    "    'logZ': 0,  # Optional\n",
    "    'CO_ratio': 0.53,  # Optional\n",
    "    'log_cloudtop_P': 4,  # Optional\n",
    "    'log_scatt_factor': 0,  # Optional\n",
    "    'scatt_slope': 4,  # Optional\n",
    "    'error_multiple': 1,  # Optional\n",
    "    'log_cloudtop_P': 4}  # Optional"
   ]
  },
  {
   "cell_type": "code",
   "execution_count": null,
   "metadata": {},
   "outputs": [],
   "source": [
    "# Instantiate PlatonWrapper object and set parameters\n",
    "pw = PlatonWrapper()\n",
    "pw.set_parameters(params)"
   ]
  },
  {
   "cell_type": "code",
   "execution_count": null,
   "metadata": {},
   "outputs": [],
   "source": [
    "# Set priors\n",
    "T_guess = 0.04*M_jup\n",
    "R_guess = 1.392 * R_jup\n",
    "pw.fit_info.add_gaussian_fit_param('Mp', T_guess)\n",
    "pw.fit_info.add_uniform_fit_param('Rp', 0.9*R_guess, 1.1*(R_guess)\n",
    "pw.fit_info.add_uniform_fit_param('T', 300, 3000)\n",
    "pw.fit_info.add_uniform_fit_param(\"logZ\", -1, 1)\n",
    "pw.fit_info.add_uniform_fit_param(\"log_cloudtop_P\", 0, 8)"
   ]
  },
  {
   "cell_type": "code",
   "execution_count": null,
   "metadata": {},
   "outputs": [],
   "source": [
    "# Define wavelength bins, transit depths, and their uncertainties\n",
    "pw.bins, pw.depths, pw.errors = get_example_data('wasp-19b')"
   ]
  },
  {
   "cell_type": "code",
   "execution_count": null,
   "metadata": {},
   "outputs": [],
   "source": [
    "# Use AWS EC2 instance for processing\n",
    "pw.use_aws('</path/to/ssh_key>', '<ec2_id>')"
   ]
  },
  {
   "cell_type": "code",
   "execution_count": null,
   "metadata": {},
   "outputs": [],
   "source": [
    "pw.retrieve('multinest')  # Multinested sampling\n",
    "pw.retrieve('emcee')  # MCMC"
   ]
  },
  {
   "cell_type": "code",
   "execution_count": null,
   "metadata": {},
   "outputs": [],
   "source": [
    "pw.results  # Object containing results\n",
    "pw.save_results()  # Save results to file\n",
    "pw.make_plot()  # Create and save corner plot"
   ]
  },
  {
   "cell_type": "code",
   "execution_count": null,
   "metadata": {},
   "outputs": [],
   "source": []
  }
 ],
 "metadata": {
  "kernelspec": {
   "display_name": "Python 3",
   "language": "python",
   "name": "python3"
  },
  "language_info": {
   "codemirror_mode": {
    "name": "ipython",
    "version": 3
   },
   "file_extension": ".py",
   "mimetype": "text/x-python",
   "name": "python",
   "nbconvert_exporter": "python",
   "pygments_lexer": "ipython3",
   "version": "3.6.7"
  }
 },
 "nbformat": 4,
 "nbformat_minor": 2
}
