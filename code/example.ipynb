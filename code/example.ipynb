{
 "cells": [
  {
   "cell_type": "code",
   "execution_count": 1,
   "metadata": {},
   "outputs": [],
   "source": [
    "from exoctk.atmospheric_retrievals.platon_wrapper import PlatonWrapper\n",
    "from exoctk.atmospheric_retrievals.examples import get_example_data\n",
    "from platon.constants import R_sun, R_jup, M_jup\n",
    "import numpy as np"
   ]
  },
  {
   "cell_type": "code",
   "execution_count": 2,
   "metadata": {},
   "outputs": [],
   "source": [
    "params = {\n",
    "    'Rs': 1.000,  # Required\n",
    "    'Mp': 1.069,  # Required\n",
    "    'Rp': 1.392,  # Required\n",
    "    'T': 2100.42,  # Required\n",
    "    'logZ': 0,  # Optional\n",
    "    'CO_ratio': 0.53,  # Optional\n",
    "    'log_cloudtop_P': 4,  # Optional\n",
    "    'log_scatt_factor': 0,  # Optional\n",
    "    'scatt_slope': 4,  # Optional\n",
    "    'error_multiple': 1,  # Optional\n",
    "    'log_cloudtop_P': 4}  # Optional"
   ]
  },
  {
   "cell_type": "code",
   "execution_count": 3,
   "metadata": {},
   "outputs": [
    {
     "name": "stdout",
     "output_type": "stream",
     "text": [
      "Log file initialized to logs/2019-12-17-11-22.log\n",
      "Setting parameters: {'Rs': 1.0, 'Mp': 1.069, 'Rp': 1.392, 'T': 2100.42, 'logZ': 0, 'CO_ratio': 0.53, 'log_cloudtop_P': 4, 'log_scatt_factor': 0, 'scatt_slope': 4, 'error_multiple': 1}\n"
     ]
    }
   ],
   "source": [
    "pw = PlatonWrapper()\n",
    "pw.set_parameters(params)"
   ]
  },
  {
   "cell_type": "code",
   "execution_count": 4,
   "metadata": {},
   "outputs": [],
   "source": [
    "pw.fit_info.add_gaussian_fit_param('Mp', 0.04*M_jup)\n",
    "pw.fit_info.add_uniform_fit_param('Rp', 0.9*(1.392 * R_jup), 1.1*(1.392 * R_jup))\n",
    "pw.fit_info.add_uniform_fit_param('T', 300, 3000)\n",
    "pw.fit_info.add_uniform_fit_param(\"logZ\", -1, 1)\n",
    "pw.fit_info.add_uniform_fit_param(\"log_cloudtop_P\", 0, 8)"
   ]
  },
  {
   "cell_type": "code",
   "execution_count": 5,
   "metadata": {},
   "outputs": [],
   "source": [
    "pw.bins, pw.depths, pw.errors = get_example_data('wasp-19b')"
   ]
  },
  {
   "cell_type": "code",
   "execution_count": 6,
   "metadata": {},
   "outputs": [
    {
     "name": "stdout",
     "output_type": "stream",
     "text": [
      "Performing atmopsheric retrievals via emcee\n",
      "Step 10: ln_prob=-8.31e+02\tMp=1.09 M_jup\tRp=1.33 R_jup\tT=2575 K\tlogZ=0.98 \tlog_cloudtop_P=5.53 \t\n",
      "Step 20: ln_prob=-1.27e+01\tMp=1.11 M_jup\tRp=1.31 R_jup\tT=2178 K\tlogZ=0.36 \tlog_cloudtop_P=2.46 \t\n",
      "Step 30: ln_prob=2.34e+01\tMp=1.17 M_jup\tRp=1.33 R_jup\tT=1653 K\tlogZ=0.47 \tlog_cloudtop_P=2.04 \t\n",
      "Step 40: ln_prob=3.69e+01\tMp=1.11 M_jup\tRp=1.35 R_jup\tT=1015 K\tlogZ=0.23 \tlog_cloudtop_P=3.75 \t\n",
      "Step 50: ln_prob=3.11e+01\tMp=1.11 M_jup\tRp=1.35 R_jup\tT=1021 K\tlogZ=0.02 \tlog_cloudtop_P=3.22 \t\n",
      "Step 60: ln_prob=3.96e+01\tMp=1.07 M_jup\tRp=1.34 R_jup\tT=1306 K\tlogZ=-0.07 \tlog_cloudtop_P=3.73 \t\n",
      "Step 70: ln_prob=3.68e+01\tMp=1.15 M_jup\tRp=1.35 R_jup\tT=1153 K\tlogZ=0.04 \tlog_cloudtop_P=4.06 \t\n",
      "Step 80: ln_prob=-8.73e+01\tMp=1.15 M_jup\tRp=1.37 R_jup\tT= 898 K\tlogZ=0.71 \tlog_cloudtop_P=6.46 \t\n",
      "Step 90: ln_prob=3.47e+01\tMp=1.15 M_jup\tRp=1.35 R_jup\tT=1027 K\tlogZ=0.70 \tlog_cloudtop_P=3.80 \t\n",
      "Step 100: ln_prob=3.82e+01\tMp=1.10 M_jup\tRp=1.35 R_jup\tT=1130 K\tlogZ=0.26 \tlog_cloudtop_P=3.46 \t\n",
      "Step 110: ln_prob=3.68e+01\tMp=1.08 M_jup\tRp=1.34 R_jup\tT=1189 K\tlogZ=0.34 \tlog_cloudtop_P=2.79 \t\n",
      "Step 120: ln_prob=3.21e+01\tMp=1.06 M_jup\tRp=1.33 R_jup\tT=1437 K\tlogZ=-0.19 \tlog_cloudtop_P=3.56 \t\n",
      "Step 130: ln_prob=3.36e+01\tMp=1.07 M_jup\tRp=1.34 R_jup\tT=1371 K\tlogZ=-0.24 \tlog_cloudtop_P=4.12 \t\n",
      "Step 140: ln_prob=3.16e+01\tMp=1.01 M_jup\tRp=1.35 R_jup\tT=1268 K\tlogZ=0.06 \tlog_cloudtop_P=4.43 \t\n",
      "Step 150: ln_prob=3.96e+01\tMp=1.04 M_jup\tRp=1.35 R_jup\tT=1295 K\tlogZ=-0.40 \tlog_cloudtop_P=4.21 \t\n",
      "Step 160: ln_prob=3.66e+01\tMp=0.99 M_jup\tRp=1.35 R_jup\tT=1305 K\tlogZ=-0.43 \tlog_cloudtop_P=3.58 \t\n",
      "Step 170: ln_prob=3.97e+01\tMp=1.02 M_jup\tRp=1.35 R_jup\tT=1404 K\tlogZ=-0.71 \tlog_cloudtop_P=4.13 \t\n",
      "Step 180: ln_prob=-1.28e+02\tMp=1.11 M_jup\tRp=1.36 R_jup\tT=1540 K\tlogZ=-0.12 \tlog_cloudtop_P=7.73 \t\n",
      "Step 190: ln_prob=4.06e+01\tMp=1.05 M_jup\tRp=1.35 R_jup\tT=1303 K\tlogZ=-0.24 \tlog_cloudtop_P=4.81 \t\n",
      "Step 200: ln_prob=4.07e+01\tMp=1.12 M_jup\tRp=1.35 R_jup\tT=1327 K\tlogZ=-0.32 \tlog_cloudtop_P=4.20 \t\n",
      "Step 210: ln_prob=9.80e+00\tMp=1.13 M_jup\tRp=1.35 R_jup\tT=1247 K\tlogZ=0.43 \tlog_cloudtop_P=7.26 \t\n",
      "Step 220: ln_prob=4.20e+01\tMp=1.05 M_jup\tRp=1.34 R_jup\tT=1378 K\tlogZ=-0.43 \tlog_cloudtop_P=5.76 \t\n",
      "Step 230: ln_prob=4.16e+01\tMp=1.07 M_jup\tRp=1.34 R_jup\tT=1395 K\tlogZ=-0.17 \tlog_cloudtop_P=6.61 \t\n",
      "Step 240: ln_prob=3.95e+01\tMp=1.07 M_jup\tRp=1.34 R_jup\tT=1250 K\tlogZ=0.04 \tlog_cloudtop_P=6.43 \t\n",
      "Step 250: ln_prob=3.74e+01\tMp=1.09 M_jup\tRp=1.34 R_jup\tT=1336 K\tlogZ=0.44 \tlog_cloudtop_P=3.50 \t\n",
      "Step 260: ln_prob=3.96e+01\tMp=1.09 M_jup\tRp=1.35 R_jup\tT=1241 K\tlogZ=-0.36 \tlog_cloudtop_P=3.88 \t\n",
      "Step 270: ln_prob=-5.58e+01\tMp=0.98 M_jup\tRp=1.37 R_jup\tT= 917 K\tlogZ=-0.33 \tlog_cloudtop_P=6.90 \t\n",
      "Step 280: ln_prob=3.89e+01\tMp=1.12 M_jup\tRp=1.35 R_jup\tT=1123 K\tlogZ=0.07 \tlog_cloudtop_P=5.90 \t\n",
      "Step 290: ln_prob=3.96e+01\tMp=1.10 M_jup\tRp=1.35 R_jup\tT=1131 K\tlogZ=-0.14 \tlog_cloudtop_P=6.93 \t\n",
      "Step 300: ln_prob=2.92e+01\tMp=1.12 M_jup\tRp=1.36 R_jup\tT= 975 K\tlogZ=-0.60 \tlog_cloudtop_P=7.45 \t\n",
      "Step 310: ln_prob=4.01e+01\tMp=1.08 M_jup\tRp=1.35 R_jup\tT=1238 K\tlogZ=-0.49 \tlog_cloudtop_P=5.55 \t\n",
      "Step 320: ln_prob=4.09e+01\tMp=1.10 M_jup\tRp=1.35 R_jup\tT=1305 K\tlogZ=-0.52 \tlog_cloudtop_P=5.57 \t\n",
      "Step 330: ln_prob=4.12e+01\tMp=1.09 M_jup\tRp=1.35 R_jup\tT=1284 K\tlogZ=-0.49 \tlog_cloudtop_P=5.96 \t\n",
      "Step 340: ln_prob=3.56e+01\tMp=1.07 M_jup\tRp=1.34 R_jup\tT=1149 K\tlogZ=-0.05 \tlog_cloudtop_P=4.12 \t\n",
      "Step 350: ln_prob=4.06e+01\tMp=1.08 M_jup\tRp=1.34 R_jup\tT=1376 K\tlogZ=0.08 \tlog_cloudtop_P=4.95 \t\n",
      "Step 360: ln_prob=3.56e+01\tMp=1.04 M_jup\tRp=1.35 R_jup\tT= 820 K\tlogZ=-0.74 \tlog_cloudtop_P=5.09 \t\n",
      "Step 370: ln_prob=3.71e+01\tMp=1.05 M_jup\tRp=1.35 R_jup\tT= 907 K\tlogZ=-0.74 \tlog_cloudtop_P=4.74 \t\n",
      "Step 380: ln_prob=3.72e+01\tMp=1.05 M_jup\tRp=1.35 R_jup\tT=1032 K\tlogZ=-0.61 \tlog_cloudtop_P=4.65 \t\n",
      "Step 390: ln_prob=4.13e+01\tMp=1.09 M_jup\tRp=1.35 R_jup\tT=1401 K\tlogZ=-0.47 \tlog_cloudtop_P=4.35 \t\n",
      "Step 400: ln_prob=3.85e+01\tMp=1.07 M_jup\tRp=1.35 R_jup\tT=1086 K\tlogZ=-0.64 \tlog_cloudtop_P=4.16 \t\n",
      "Step 410: ln_prob=2.51e+01\tMp=1.05 M_jup\tRp=1.33 R_jup\tT=1244 K\tlogZ=-0.87 \tlog_cloudtop_P=2.71 \t\n",
      "Step 420: ln_prob=3.27e+01\tMp=1.02 M_jup\tRp=1.36 R_jup\tT= 795 K\tlogZ=-0.90 \tlog_cloudtop_P=4.44 \t\n",
      "Step 430: ln_prob=3.92e+01\tMp=1.06 M_jup\tRp=1.35 R_jup\tT=1052 K\tlogZ=-0.40 \tlog_cloudtop_P=4.89 \t\n",
      "Step 440: ln_prob=3.96e+01\tMp=1.07 M_jup\tRp=1.35 R_jup\tT=1181 K\tlogZ=-0.48 \tlog_cloudtop_P=4.77 \t\n",
      "Step 450: ln_prob=4.05e+01\tMp=1.04 M_jup\tRp=1.35 R_jup\tT=1197 K\tlogZ=-0.60 \tlog_cloudtop_P=5.55 \t\n",
      "Step 460: ln_prob=3.98e+01\tMp=1.02 M_jup\tRp=1.35 R_jup\tT=1194 K\tlogZ=-0.69 \tlog_cloudtop_P=6.72 \t\n",
      "Step 470: ln_prob=2.66e+01\tMp=1.08 M_jup\tRp=1.33 R_jup\tT=1535 K\tlogZ=-0.32 \tlog_cloudtop_P=5.73 \t\n",
      "Step 480: ln_prob=4.21e+01\tMp=1.07 M_jup\tRp=1.35 R_jup\tT=1402 K\tlogZ=-0.72 \tlog_cloudtop_P=6.85 \t\n",
      "Step 490: ln_prob=3.75e+01\tMp=0.98 M_jup\tRp=1.34 R_jup\tT=1285 K\tlogZ=-0.16 \tlog_cloudtop_P=7.35 \t\n",
      "Step 500: ln_prob=4.02e+01\tMp=1.01 M_jup\tRp=1.35 R_jup\tT=1257 K\tlogZ=-0.43 \tlog_cloudtop_P=6.33 \t\n",
      "Step 510: ln_prob=3.85e+01\tMp=0.98 M_jup\tRp=1.35 R_jup\tT=1209 K\tlogZ=-0.31 \tlog_cloudtop_P=7.09 \t\n",
      "Step 520: ln_prob=4.07e+01\tMp=1.02 M_jup\tRp=1.35 R_jup\tT=1302 K\tlogZ=-0.43 \tlog_cloudtop_P=6.63 \t\n",
      "Step 530: ln_prob=3.65e+01\tMp=1.06 M_jup\tRp=1.35 R_jup\tT=1435 K\tlogZ=-0.98 \tlog_cloudtop_P=6.83 \t\n",
      "Step 540: ln_prob=3.97e+01\tMp=1.01 M_jup\tRp=1.35 R_jup\tT=1363 K\tlogZ=-0.67 \tlog_cloudtop_P=6.08 \t\n",
      "Step 550: ln_prob=4.18e+01\tMp=1.06 M_jup\tRp=1.35 R_jup\tT=1286 K\tlogZ=-0.81 \tlog_cloudtop_P=5.68 \t\n",
      "Step 560: ln_prob=3.45e+01\tMp=1.17 M_jup\tRp=1.34 R_jup\tT=1181 K\tlogZ=0.56 \tlog_cloudtop_P=3.38 \t\n",
      "Step 570: ln_prob=3.85e+01\tMp=1.10 M_jup\tRp=1.34 R_jup\tT=1324 K\tlogZ=0.44 \tlog_cloudtop_P=6.46 \t\n",
      "Step 580: ln_prob=2.44e+01\tMp=1.19 M_jup\tRp=1.34 R_jup\tT=1566 K\tlogZ=0.53 \tlog_cloudtop_P=6.27 \t\n",
      "Step 590: ln_prob=3.42e+01\tMp=1.15 M_jup\tRp=1.34 R_jup\tT=1313 K\tlogZ=0.99 \tlog_cloudtop_P=6.52 \t\n",
      "Step 600: ln_prob=4.01e+01\tMp=1.10 M_jup\tRp=1.34 R_jup\tT=1356 K\tlogZ=0.08 \tlog_cloudtop_P=6.33 \t\n",
      "Step 610: ln_prob=4.04e+01\tMp=1.08 M_jup\tRp=1.34 R_jup\tT=1343 K\tlogZ=0.05 \tlog_cloudtop_P=6.69 \t\n",
      "Step 620: ln_prob=4.08e+01\tMp=1.08 M_jup\tRp=1.34 R_jup\tT=1388 K\tlogZ=0.05 \tlog_cloudtop_P=7.44 \t\n",
      "Step 630: ln_prob=4.19e+01\tMp=1.08 M_jup\tRp=1.35 R_jup\tT=1349 K\tlogZ=-0.50 \tlog_cloudtop_P=6.74 \t\n",
      "Step 640: ln_prob=4.17e+01\tMp=1.10 M_jup\tRp=1.35 R_jup\tT=1391 K\tlogZ=-0.38 \tlog_cloudtop_P=7.61 \t\n",
      "Step 650: ln_prob=3.87e+01\tMp=1.10 M_jup\tRp=1.35 R_jup\tT=1349 K\tlogZ=-0.35 \tlog_cloudtop_P=7.83 \t\n",
      "Step 660: ln_prob=4.15e+01\tMp=1.03 M_jup\tRp=1.35 R_jup\tT=1297 K\tlogZ=-0.78 \tlog_cloudtop_P=7.50 \t\n",
      "Step 670: ln_prob=4.04e+01\tMp=1.09 M_jup\tRp=1.35 R_jup\tT=1292 K\tlogZ=-0.66 \tlog_cloudtop_P=7.79 \t\n",
      "Step 680: ln_prob=4.18e+01\tMp=1.09 M_jup\tRp=1.35 R_jup\tT=1401 K\tlogZ=-0.98 \tlog_cloudtop_P=7.94 \t\n",
      "Step 690: ln_prob=3.04e+01\tMp=1.09 M_jup\tRp=1.35 R_jup\tT=1506 K\tlogZ=-0.86 \tlog_cloudtop_P=7.44 \t\n",
      "Step 700: ln_prob=4.23e+01\tMp=1.08 M_jup\tRp=1.35 R_jup\tT=1386 K\tlogZ=-0.54 \tlog_cloudtop_P=7.43 \t\n",
      "Step 710: ln_prob=4.21e+01\tMp=1.06 M_jup\tRp=1.35 R_jup\tT=1359 K\tlogZ=-0.78 \tlog_cloudtop_P=6.58 \t\n",
      "Step 720: ln_prob=4.23e+01\tMp=1.07 M_jup\tRp=1.35 R_jup\tT=1392 K\tlogZ=-0.69 \tlog_cloudtop_P=7.36 \t\n",
      "Step 730: ln_prob=4.20e+01\tMp=1.03 M_jup\tRp=1.35 R_jup\tT=1374 K\tlogZ=-0.66 \tlog_cloudtop_P=7.73 \t\n",
      "Step 740: ln_prob=4.08e+01\tMp=1.09 M_jup\tRp=1.35 R_jup\tT=1236 K\tlogZ=-0.88 \tlog_cloudtop_P=7.26 \t\n",
      "Step 750: ln_prob=4.06e+01\tMp=1.07 M_jup\tRp=1.35 R_jup\tT=1187 K\tlogZ=-0.79 \tlog_cloudtop_P=6.88 \t\n",
      "Step 760: ln_prob=4.03e+01\tMp=1.07 M_jup\tRp=1.35 R_jup\tT=1164 K\tlogZ=-0.92 \tlog_cloudtop_P=6.95 \t\n",
      "Step 770: ln_prob=4.04e+01\tMp=1.03 M_jup\tRp=1.35 R_jup\tT=1219 K\tlogZ=-0.57 \tlog_cloudtop_P=7.46 \t\n",
      "Step 780: ln_prob=3.91e+01\tMp=1.09 M_jup\tRp=1.35 R_jup\tT=1102 K\tlogZ=-1.00 \tlog_cloudtop_P=7.84 \t\n",
      "Step 790: ln_prob=4.06e+01\tMp=1.08 M_jup\tRp=1.35 R_jup\tT=1351 K\tlogZ=-0.87 \tlog_cloudtop_P=7.39 \t\n",
      "Step 800: ln_prob=4.22e+01\tMp=1.07 M_jup\tRp=1.35 R_jup\tT=1363 K\tlogZ=-0.52 \tlog_cloudtop_P=4.45 \t\n",
      "Step 810: ln_prob=2.94e+01\tMp=1.02 M_jup\tRp=1.35 R_jup\tT=1456 K\tlogZ=-0.47 \tlog_cloudtop_P=5.89 \t\n",
      "Step 820: ln_prob=4.12e+01\tMp=1.01 M_jup\tRp=1.34 R_jup\tT=1386 K\tlogZ=-0.49 \tlog_cloudtop_P=5.31 \t\n",
      "Step 830: ln_prob=4.16e+01\tMp=1.04 M_jup\tRp=1.35 R_jup\tT=1326 K\tlogZ=-0.78 \tlog_cloudtop_P=5.19 \t\n",
      "Step 840: ln_prob=3.48e+01\tMp=0.95 M_jup\tRp=1.34 R_jup\tT=1417 K\tlogZ=-0.34 \tlog_cloudtop_P=7.52 \t\n"
     ]
    },
    {
     "name": "stdout",
     "output_type": "stream",
     "text": [
      "Step 850: ln_prob=4.07e+01\tMp=1.00 M_jup\tRp=1.34 R_jup\tT=1398 K\tlogZ=-0.49 \tlog_cloudtop_P=5.80 \t\n",
      "Step 860: ln_prob=4.15e+01\tMp=1.02 M_jup\tRp=1.35 R_jup\tT=1327 K\tlogZ=-0.89 \tlog_cloudtop_P=6.87 \t\n",
      "Step 870: ln_prob=3.78e+01\tMp=1.17 M_jup\tRp=1.35 R_jup\tT=1392 K\tlogZ=-0.72 \tlog_cloudtop_P=4.34 \t\n",
      "Step 880: ln_prob=4.18e+01\tMp=1.04 M_jup\tRp=1.35 R_jup\tT=1319 K\tlogZ=-0.94 \tlog_cloudtop_P=6.84 \t\n",
      "Step 890: ln_prob=4.14e+01\tMp=1.07 M_jup\tRp=1.35 R_jup\tT=1270 K\tlogZ=-0.60 \tlog_cloudtop_P=5.46 \t\n",
      "Step 900: ln_prob=4.10e+01\tMp=1.05 M_jup\tRp=1.35 R_jup\tT=1256 K\tlogZ=-0.64 \tlog_cloudtop_P=5.34 \t\n",
      "Step 910: ln_prob=4.03e+01\tMp=1.00 M_jup\tRp=1.35 R_jup\tT=1273 K\tlogZ=-0.86 \tlog_cloudtop_P=4.57 \t\n",
      "Step 920: ln_prob=3.85e+01\tMp=1.02 M_jup\tRp=1.35 R_jup\tT=1412 K\tlogZ=-0.86 \tlog_cloudtop_P=4.01 \t\n",
      "Step 930: ln_prob=2.28e+01\tMp=0.95 M_jup\tRp=1.34 R_jup\tT=1455 K\tlogZ=-0.78 \tlog_cloudtop_P=3.52 \t\n",
      "Step 940: ln_prob=-1.87e+01\tMp=0.89 M_jup\tRp=1.34 R_jup\tT=1507 K\tlogZ=-0.67 \tlog_cloudtop_P=3.02 \t\n",
      "Step 950: ln_prob=4.02e+01\tMp=1.04 M_jup\tRp=1.34 R_jup\tT=1427 K\tlogZ=-0.23 \tlog_cloudtop_P=7.03 \t\n",
      "Step 960: ln_prob=3.56e+01\tMp=1.04 M_jup\tRp=1.34 R_jup\tT= 959 K\tlogZ=0.97 \tlog_cloudtop_P=2.95 \t\n",
      "Step 970: ln_prob=4.11e+01\tMp=1.04 M_jup\tRp=1.34 R_jup\tT=1387 K\tlogZ=-0.53 \tlog_cloudtop_P=4.09 \t\n",
      "Step 980: ln_prob=3.87e+01\tMp=1.04 M_jup\tRp=1.35 R_jup\tT=1271 K\tlogZ=-0.58 \tlog_cloudtop_P=3.77 \t\n",
      "Step 990: ln_prob=3.90e+01\tMp=1.17 M_jup\tRp=1.35 R_jup\tT=1390 K\tlogZ=-0.59 \tlog_cloudtop_P=4.77 \t\n",
      "Step 1000: ln_prob=4.18e+01\tMp=1.11 M_jup\tRp=1.35 R_jup\tT=1358 K\tlogZ=-0.71 \tlog_cloudtop_P=5.97 \t\n",
      "#Parameter Lower_error Median Upper_error Best_fit\n",
      "Max_lnprob 42.41017566174394\n",
      "Mp 7.560165982945385e+25 2.024635991299111e+27 7.620194845088175e+25 2.025474198017861e+27\n",
      "Rp 909881.9553655237 96225871.60041738 261865.8919839412 96306228.72221223\n",
      "T 167.94369199064045 1338.837987322875 111.34157580052761 1384.5016072247597\n",
      "logZ 0.4010916052996404 -0.40791906347618945 0.5272904218973242 -0.7539189003858646\n",
      "log_cloudtop_P 3.045786101705626 5.127939408978382 1.7996542260072381 7.5270617437596075\n",
      "\n"
     ]
    }
   ],
   "source": [
    "# pw.retrieve('multinest')\n",
    "pw.retrieve('emcee')"
   ]
  },
  {
   "cell_type": "code",
   "execution_count": 10,
   "metadata": {},
   "outputs": [
    {
     "data": {
      "text/plain": [
       "['__class__',\n",
       " '__delattr__',\n",
       " '__dict__',\n",
       " '__dir__',\n",
       " '__doc__',\n",
       " '__eq__',\n",
       " '__format__',\n",
       " '__ge__',\n",
       " '__getattribute__',\n",
       " '__gt__',\n",
       " '__hash__',\n",
       " '__init__',\n",
       " '__init_subclass__',\n",
       " '__le__',\n",
       " '__lt__',\n",
       " '__module__',\n",
       " '__ne__',\n",
       " '__new__',\n",
       " '__reduce__',\n",
       " '__reduce_ex__',\n",
       " '__repr__',\n",
       " '__setattr__',\n",
       " '__sizeof__',\n",
       " '__str__',\n",
       " '__subclasshook__',\n",
       " '__weakref__',\n",
       " '_blobs',\n",
       " '_chain',\n",
       " '_get_lnprob',\n",
       " '_last_run_mcmc_result',\n",
       " '_lnprob',\n",
       " '_propose_stretch',\n",
       " '_random',\n",
       " 'a',\n",
       " 'acceptance_fraction',\n",
       " 'acor',\n",
       " 'args',\n",
       " 'blobs',\n",
       " 'chain',\n",
       " 'clear_blobs',\n",
       " 'clear_chain',\n",
       " 'dim',\n",
       " 'flatchain',\n",
       " 'flatlnprobability',\n",
       " 'get_autocorr_time',\n",
       " 'get_lnprob',\n",
       " 'iterations',\n",
       " 'k',\n",
       " 'kwargs',\n",
       " 'lnprobability',\n",
       " 'lnprobfn',\n",
       " 'naccepted',\n",
       " 'pool',\n",
       " 'random_state',\n",
       " 'reset',\n",
       " 'run_mcmc',\n",
       " 'runtime_sortingfn',\n",
       " 'sample',\n",
       " 'threads']"
      ]
     },
     "execution_count": 10,
     "metadata": {},
     "output_type": "execute_result"
    }
   ],
   "source": [
    "dir(pw.result)"
   ]
  },
  {
   "cell_type": "code",
   "execution_count": 15,
   "metadata": {},
   "outputs": [
    {
     "data": {
      "text/plain": [
       "array([[-2239.25460495,  -851.66586174,  -851.66586174, ...,\n",
       "           39.14785585,    40.52224203,    40.52224203],\n",
       "       [   28.03408336,    28.03408336,    28.03408336, ...,\n",
       "           40.82496703,    40.16894354,    40.16894354],\n",
       "       [-6421.19150051, -6327.56173349, -6327.56173349, ...,\n",
       "           41.55449198,    41.55449198,    40.33631309],\n",
       "       ...,\n",
       "       [ -539.82136742,  -539.82136742,  -539.82136742, ...,\n",
       "           41.67699685,    41.67699685,    41.67699685],\n",
       "       [-8699.06126246, -8699.06126246, -3827.42110134, ...,\n",
       "           41.00763333,    41.61191646,    41.61191646],\n",
       "       [-1080.46404921,  -938.37399734,  -938.37399734, ...,\n",
       "           40.65589152,    40.65589152,    41.78691297]])"
      ]
     },
     "execution_count": 15,
     "metadata": {},
     "output_type": "execute_result"
    }
   ],
   "source": [
    "pw.result.lnprobability"
   ]
  },
  {
   "cell_type": "code",
   "execution_count": null,
   "metadata": {},
   "outputs": [],
   "source": [
    "pw.make_plot()"
   ]
  },
  {
   "cell_type": "code",
   "execution_count": null,
   "metadata": {},
   "outputs": [],
   "source": [
    "pw.bins"
   ]
  },
  {
   "cell_type": "code",
   "execution_count": null,
   "metadata": {},
   "outputs": [],
   "source": []
  }
 ],
 "metadata": {
  "kernelspec": {
   "display_name": "Python 3",
   "language": "python",
   "name": "python3"
  },
  "language_info": {
   "codemirror_mode": {
    "name": "ipython",
    "version": 3
   },
   "file_extension": ".py",
   "mimetype": "text/x-python",
   "name": "python",
   "nbconvert_exporter": "python",
   "pygments_lexer": "ipython3",
   "version": "3.6.7"
  }
 },
 "nbformat": 4,
 "nbformat_minor": 2
}
